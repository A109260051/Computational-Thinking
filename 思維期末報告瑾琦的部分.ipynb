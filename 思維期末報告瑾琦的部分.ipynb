{
  "nbformat": 4,
  "nbformat_minor": 0,
  "metadata": {
    "colab": {
      "name": "Untitled7.ipynb",
      "provenance": [],
      "authorship_tag": "ABX9TyNWUyGWrveI3sgpRZxUgVL9",
      "include_colab_link": true
    },
    "kernelspec": {
      "name": "python3",
      "display_name": "Python 3"
    }
  },
  "cells": [
    {
      "cell_type": "markdown",
      "metadata": {
        "id": "view-in-github",
        "colab_type": "text"
      },
      "source": [
        "<a href=\"https://colab.research.google.com/github/A109260051/Computational-Thinking/blob/master/%E6%80%9D%E7%B6%AD%E6%9C%9F%E6%9C%AB%E5%A0%B1%E5%91%8A%E7%91%BE%E7%90%A6%E7%9A%84%E9%83%A8%E5%88%86.ipynb\" target=\"_parent\"><img src=\"https://colab.research.google.com/assets/colab-badge.svg\" alt=\"Open In Colab\"/></a>"
      ]
    },
    {
      "cell_type": "code",
      "metadata": {
        "id": "jMKquvGUn4HA"
      },
      "source": [
        "name_list = [\"陳瑾琦\",\"陳姵蓉\",\"林諭辰\",\"莊芷俞\",\"邱柏睿\",\"劉宏望\",\"王冠仁\"]\r\n",
        "number_list = [\"A109260051\",\"A109260063\",\"A109260041\",\"A109260009\",\"A109260047\",\"A109260065\",\"A109260075\"]\r\n",
        "duty_list = [\"晚餐吃甚麼\",\"午餐吃甚麼\",\"早餐吃甚麼\",\"心情如何\",\"自我介紹\",\"結束對話\",\"興趣\"]\r\n",
        "load_list = [\"10\",\"10\",\"10\",\"10\",\"10\",\"10\",\"10\"]"
      ],
      "execution_count": 5,
      "outputs": []
    },
    {
      "cell_type": "code",
      "metadata": {
        "colab": {
          "base_uri": "https://localhost:8080/"
        },
        "id": "N5xfH6KBecfv",
        "outputId": "a0209829-1403-4588-b878-0064ce1b23c9"
      },
      "source": [
        "dinner = input(\"你們今天晚上想要吃甚麼?麵類?飯類?火鍋?\")\r\n",
        "print(\"剛好我今天也想吃\",dinner)\r\n",
        "\r\n",
        "place = input(\"要在這附近吃還是去遠一點的地方吃?\")\r\n",
        "print(\"那我們去\",place,\"的地方吃晚餐\")\r\n",
        "\r\n",
        "store = input(\"那你們想吃哪一間店?\")\r\n",
        "print(\"好啊那我們去\",store,\"吃晚餐\")\r\n",
        "\r\n",
        "Sally = int(input(\"瑾琦吃的金額為\"))\r\n",
        "Penny = int(input(\"姵蓉吃的金額為\"))\r\n",
        "Kelly = int(input(\"諭辰吃的金額為\"))\r\n",
        "Nemo = int(input(\"芷俞吃的金額為\"))\r\n",
        "David = int(input(\"柏睿吃的金額為\"))\r\n",
        "Johnson = int(input(\"宏望吃的金額為\"))\r\n",
        "Stark = int(input(\"冠仁吃的金額為\"))\r\n",
        "\r\n",
        "import math\r\n",
        "total = Sally + Penny + Kelly + Nemo + David + Johnson + Stark\r\n",
        "\r\n",
        "print(\"好,這樣我們今天晚餐吃的總金額為\",total)"
      ],
      "execution_count": 14,
      "outputs": [
        {
          "output_type": "stream",
          "text": [
            "你們今天晚上想要吃甚麼?麵類?飯類?火鍋?麵\n",
            "剛好我今天也想吃 麵\n",
            "要在這附近吃還是去遠一點的地方吃?這附近\n",
            "那我們去 這附近 的地方吃晚餐\n",
            "那你們想吃哪一間店?老娘米粉湯\n",
            "好啊那我們去 老娘米粉湯 吃晚餐\n",
            "瑾琦吃的金額為55\n",
            "姵蓉吃的金額為85\n",
            "諭辰吃的金額為90\n",
            "芷俞吃的金額為75\n",
            "柏睿吃的金額為100\n",
            "宏望吃的金額為95\n",
            "冠仁吃的金額為65\n",
            "好,這樣我們今天晚餐吃的總金額為 565\n"
          ],
          "name": "stdout"
        }
      ]
    }
  ]
}