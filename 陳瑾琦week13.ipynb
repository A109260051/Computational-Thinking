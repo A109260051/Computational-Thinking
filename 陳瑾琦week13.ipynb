{
  "nbformat": 4,
  "nbformat_minor": 0,
  "metadata": {
    "colab": {
      "name": "陳瑾琦week13.ipynb",
      "provenance": [],
      "authorship_tag": "ABX9TyMmaz9erdqul0xBmT9c+1NO",
      "include_colab_link": true
    },
    "kernelspec": {
      "name": "python3",
      "display_name": "Python 3"
    }
  },
  "cells": [
    {
      "cell_type": "markdown",
      "metadata": {
        "id": "view-in-github",
        "colab_type": "text"
      },
      "source": [
        "<a href=\"https://colab.research.google.com/github/A109260051/Computational-Thinking/blob/master/%E9%99%B3%E7%91%BE%E7%90%A6week13.ipynb\" target=\"_parent\"><img src=\"https://colab.research.google.com/assets/colab-badge.svg\" alt=\"Open In Colab\"/></a>"
      ]
    },
    {
      "cell_type": "code",
      "metadata": {
        "colab": {
          "base_uri": "https://localhost:8080/"
        },
        "id": "Eakwdh57jit4",
        "outputId": "01e1fc66-6858-4c90-83f4-08041b617301"
      },
      "source": [
        "for i in range(0,5,1):\r\n",
        "  print(\"Hello\")"
      ],
      "execution_count": 1,
      "outputs": [
        {
          "output_type": "stream",
          "text": [
            "Hello\n",
            "Hello\n",
            "Hello\n",
            "Hello\n",
            "Hello\n"
          ],
          "name": "stdout"
        }
      ]
    },
    {
      "cell_type": "code",
      "metadata": {
        "colab": {
          "base_uri": "https://localhost:8080/"
        },
        "id": "NSNUlOcMlG53",
        "outputId": "b74ffe9d-ea97-474f-d30c-e77ea21e4a84"
      },
      "source": [
        "for i in range(100,90,-3):\r\n",
        " print(i)"
      ],
      "execution_count": 15,
      "outputs": [
        {
          "output_type": "stream",
          "text": [
            "100\n",
            "97\n",
            "94\n",
            "91\n"
          ],
          "name": "stdout"
        }
      ]
    },
    {
      "cell_type": "code",
      "metadata": {
        "colab": {
          "base_uri": "https://localhost:8080/"
        },
        "id": "JI1DgOQklcrs",
        "outputId": "be7be788-8602-4da5-8c16-d0caa2fca332"
      },
      "source": [
        "sum=0\r\n",
        "for i in range(1,11,1):\r\n",
        "  sum  = sum+i\r\n",
        "print(\"Total is\",sum)"
      ],
      "execution_count": 13,
      "outputs": [
        {
          "output_type": "stream",
          "text": [
            "Total is 55\n"
          ],
          "name": "stdout"
        }
      ]
    },
    {
      "cell_type": "code",
      "metadata": {
        "colab": {
          "base_uri": "https://localhost:8080/"
        },
        "id": "Og8P-yYxrWjs",
        "outputId": "3f37b186-f7b5-481f-df28-d89bfbfd904e"
      },
      "source": [
        "sum = 0\r\n",
        "for i in range(1,11,2):\r\n",
        "  sum = sum+i\r\n",
        "print(\"Total  is\",sum)"
      ],
      "execution_count": 12,
      "outputs": [
        {
          "output_type": "stream",
          "text": [
            "Total  is 25\n"
          ],
          "name": "stdout"
        }
      ]
    },
    {
      "cell_type": "code",
      "metadata": {
        "colab": {
          "base_uri": "https://localhost:8080/"
        },
        "id": "Pu6udTwFrrry",
        "outputId": "6b2c4b6a-64c9-4f46-b9ef-11955a0bf300"
      },
      "source": [
        "sum = 0\r\n",
        "for i in range(2,11,2):\r\n",
        "  sum = sum + i\r\n",
        "print(\"Total is\",sum)"
      ],
      "execution_count": 11,
      "outputs": [
        {
          "output_type": "stream",
          "text": [
            "Total is 30\n"
          ],
          "name": "stdout"
        }
      ]
    },
    {
      "cell_type": "code",
      "metadata": {
        "colab": {
          "base_uri": "https://localhost:8080/"
        },
        "id": "AsB_gcozsP8n",
        "outputId": "3bf8fbbe-8301-47dd-cab3-746d2989e179"
      },
      "source": [
        "sum = 0\r\n",
        "for i in range(3,13,3):\r\n",
        "  sum = sum + i\r\n",
        "print(\"Total is\",sum)"
      ],
      "execution_count": 10,
      "outputs": [
        {
          "output_type": "stream",
          "text": [
            "Total is 30\n"
          ],
          "name": "stdout"
        }
      ]
    },
    {
      "cell_type": "code",
      "metadata": {
        "colab": {
          "base_uri": "https://localhost:8080/"
        },
        "id": "99vUlJJqw0AP",
        "outputId": "494b4cd7-1654-483d-fb1c-878ccc30bbfb"
      },
      "source": [
        "start = int(input('請輸入加總開始值？')) \r\n",
        "end = int(input('請輸入加總終⽌值？')) \r\n",
        "step = int(input('請輸入遞增減值？'))\r\n",
        "sum = 0\r\n",
        "for i in range(start, end, step):\r\n",
        " sum = sum + i \r\n",
        " print('i為', i, '時，累加結果為', sum)"
      ],
      "execution_count": 19,
      "outputs": [
        {
          "output_type": "stream",
          "text": [
            "請輸入加總開始值？2\n",
            "請輸入加總終⽌值？10\n",
            "請輸入遞增減值？2\n",
            "i為 2 時，累加結果為 2\n",
            "i為 4 時，累加結果為 6\n",
            "i為 6 時，累加結果為 12\n",
            "i為 8 時，累加結果為 20\n"
          ],
          "name": "stdout"
        }
      ]
    },
    {
      "cell_type": "code",
      "metadata": {
        "colab": {
          "base_uri": "https://localhost:8080/"
        },
        "id": "L6mnXxzNxVo5",
        "outputId": "b27b294c-42c2-4a53-d9c0-9a2c67c95d2c"
      },
      "source": [
        "sum = 0\r\n",
        "n = int(input('請輸入終止值？'))\r\n",
        "for i in range(1, n+1):\r\n",
        " sum = sum + i*i\r\n",
        "print('i為', i, '時，平方和結果為', sum)"
      ],
      "execution_count": 26,
      "outputs": [
        {
          "output_type": "stream",
          "text": [
            "請輸入終止值？4\n",
            "i為 4 時，平方和結果為 30\n"
          ],
          "name": "stdout"
        }
      ]
    }
  ]
}