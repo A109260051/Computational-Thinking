{
  "nbformat": 4,
  "nbformat_minor": 0,
  "metadata": {
    "colab": {
      "name": "Untitled2.ipynb",
      "provenance": [],
      "authorship_tag": "ABX9TyOdWjqSPcSm8ynLh3Wr/u5Y",
      "include_colab_link": true
    },
    "kernelspec": {
      "name": "python3",
      "display_name": "Python 3"
    }
  },
  "cells": [
    {
      "cell_type": "markdown",
      "metadata": {
        "id": "view-in-github",
        "colab_type": "text"
      },
      "source": [
        "<a href=\"https://colab.research.google.com/github/A109260051/Computational-Thinking/blob/master/%E9%99%B3%E7%91%BE%E7%90%A6week12.ipynb\" target=\"_parent\"><img src=\"https://colab.research.google.com/assets/colab-badge.svg\" alt=\"Open In Colab\"/></a>"
      ]
    },
    {
      "cell_type": "code",
      "metadata": {
        "colab": {
          "base_uri": "https://localhost:8080/"
        },
        "id": "2jbO7TVhew4R",
        "outputId": "36b5bd0b-8927-4918-878f-eda918ec0d48"
      },
      "source": [
        "shopping_list = ['耳環','手鍊','戒指','衣服','項鍊']\n",
        "print(shopping_list)\n",
        "print(shopping_list[0])\n",
        "shopping_list[1]\n",
        "print(shopping_list) \n",
        "print(shopping_list[1:3])"
      ],
      "execution_count": 13,
      "outputs": [
        {
          "output_type": "stream",
          "text": [
            "['耳環', '手鍊', '戒指', '衣服', '項鍊']\n",
            "耳環\n",
            "['耳環', '手鍊', '戒指', '衣服', '項鍊']\n",
            "['手鍊', '戒指']\n"
          ],
          "name": "stdout"
        }
      ]
    },
    {
      "cell_type": "code",
      "metadata": {
        "colab": {
          "base_uri": "https://localhost:8080/"
        },
        "id": "cJ_3fIl6hYfD",
        "outputId": "3878b2a3-d598-4a0a-cd84-273a36d287bb"
      },
      "source": [
        "season = \"1995-1996\" \n",
        "team = \"Chicago Bulls\" \n",
        "coach = \"Phil Jackson\" \n",
        "records = [72, 10] \n",
        "starting = [\"Ron Harper\", \"Michael Jordan\", \"Scottie Pippen\", \"Dennis Rodman\", \"Luc Longley\"] \n",
        "champion = True \n",
        "\n",
        "best_NBA = list((season, team, coach, records, starting, champion)) \n",
        "\n",
        "print(best_NBA)\n",
        "print(type(best_NBA)) \n",
        "print(best_NBA[-2]) \n",
        "print(best_NBA[0:3]) \n",
        "\n",
        "print(season)\n",
        "\n",
        "print(team)\n",
        "\n",
        "print(coach)\n"
      ],
      "execution_count": 28,
      "outputs": [
        {
          "output_type": "stream",
          "text": [
            "['1995-1996', 'Chicago Bulls', 'Phil Jackson', [72, 10], ['Ron Harper', 'Michael Jordan', 'Scottie Pippen', 'Dennis Rodman', 'Luc Longley'], True]\n",
            "<class 'list'>\n",
            "['Ron Harper', 'Michael Jordan', 'Scottie Pippen', 'Dennis Rodman', 'Luc Longley']\n",
            "['1995-1996', 'Chicago Bulls', 'Phil Jackson']\n",
            "1995-1996\n",
            "Chicago Bulls\n",
            "Phil Jackson\n"
          ],
          "name": "stdout"
        }
      ]
    },
    {
      "cell_type": "code",
      "metadata": {
        "colab": {
          "base_uri": "https://localhost:8080/"
        },
        "id": "5P_0hnKXuhhq",
        "outputId": "1c5cdc50-d441-4157-f125-b00d46fb3ece"
      },
      "source": [
        "a = range(10)\n",
        "print(a)\n",
        "range(0,10)\n",
        "print(a[0],a[1],a[2],a[3],a[4],a[5],a[6],a[7],a[8],a[9])\n",
        "\n",
        "b = range(0, 9,2)\n",
        "print(b[0], b[1], b[2], b[3],b[4])\n",
        " \n",
        "c = range(5, 10, 2) \n",
        "print(c[0], c[1], c[2]) \n",
        "\n",
        "\n",
        "d = range(0, -10, -1) \n",
        "print(d[0],d[1],d[2],d[3],d[4],d[5],d[6],d[7],d[8],d[9])\n"
      ],
      "execution_count": 46,
      "outputs": [
        {
          "output_type": "stream",
          "text": [
            "range(0, 10)\n",
            "0 1 2 3 4 5 6 7 8 9\n",
            "0 2 4 6 8\n",
            "5 7 9\n",
            "0 -1 -2 -3 -4 -5 -6 -7 -8 -9\n"
          ],
          "name": "stdout"
        }
      ]
    },
    {
      "cell_type": "code",
      "metadata": {
        "id": "hEH9W1hjvJy1"
      },
      "source": [
        "#分組作業\n",
        "project_title = \"今天要吃甚麼?\"\n",
        "name_list = [\"陳瑾琦\",\"陳姵蓉\",\"林諭辰\",\"莊芷俞\",\"邱柏睿\",\"劉宏望\",\"王冠仁\"]\n",
        "number_list = [\"A109260051\",\"A109260063\",\"A109260041\",\"A109260009\",\"A109260047\",\"A109260065\",\"A109260075\"]\n",
        "duty_list = [\"查資料\",\"報告\",\"做ppt\",\"報告\",\"查詢\",\"做ppt\",\"排序\"]\n",
        "load_list = [\"10\",\"10\",\"10\",\"10\",\"10\",\"10\",\"10\"]"
      ],
      "execution_count": 52,
      "outputs": []
    }
  ]
}