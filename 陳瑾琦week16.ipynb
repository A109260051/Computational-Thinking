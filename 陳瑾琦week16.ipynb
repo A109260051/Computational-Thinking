{
  "nbformat": 4,
  "nbformat_minor": 0,
  "metadata": {
    "colab": {
      "name": "Untitled5.ipynb",
      "provenance": [],
      "authorship_tag": "ABX9TyMP5QvOUznLlaMez4pGEkpw",
      "include_colab_link": true
    },
    "kernelspec": {
      "name": "python3",
      "display_name": "Python 3"
    }
  },
  "cells": [
    {
      "cell_type": "markdown",
      "metadata": {
        "id": "view-in-github",
        "colab_type": "text"
      },
      "source": [
        "<a href=\"https://colab.research.google.com/github/A109260051/Computational-Thinking/blob/master/%E9%99%B3%E7%91%BE%E7%90%A6week16.ipynb\" target=\"_parent\"><img src=\"https://colab.research.google.com/assets/colab-badge.svg\" alt=\"Open In Colab\"/></a>"
      ]
    },
    {
      "cell_type": "code",
      "metadata": {
        "colab": {
          "base_uri": "https://localhost:8080/"
        },
        "id": "-AZQEqZGjkMK",
        "outputId": "d27b1640-241e-45f6-a416-21b1e1598d97"
      },
      "source": [
        "X = 70\r\n",
        "\r\n",
        "print( X > 60) and ( X < 80 )"
      ],
      "execution_count": 1,
      "outputs": [
        {
          "output_type": "stream",
          "text": [
            "True\n"
          ],
          "name": "stdout"
        }
      ]
    },
    {
      "cell_type": "code",
      "metadata": {
        "colab": {
          "base_uri": "https://localhost:8080/"
        },
        "id": "-sgAhJ3jzT08",
        "outputId": "53daacd6-25e4-4f5b-f075-d3be84d8c304"
      },
      "source": [
        "num_a = int(input(\"輸入第一個數字?\"))\r\n",
        "num_b = int(input(\"輸入第二個數字?\"))\r\n",
        "\r\n",
        "if num_a < 0:\r\n",
        "  print(\"第一個是負數\")\r\n",
        "  if num_b < 0:\r\n",
        "    print(\"第二個也是負數\")\r\n",
        "\r\n",
        "print(\"比較完成\")\r\n",
        "\r\n",
        "num_a = int(input(\"輸入第一個數字?\"))\r\n",
        "num_b = int(input(\"輸入第二個數字?\"))\r\n",
        "\r\n",
        "if num_a < 0:\r\n",
        "  print(\"第一個是負數\")\r\n",
        "if num_b < 0:\r\n",
        "  print(\"第二個是負數\")\r\n",
        "\r\n",
        "print(\"比較完成\")"
      ],
      "execution_count": 4,
      "outputs": [
        {
          "output_type": "stream",
          "text": [
            "輸入第一個數字?-15\n",
            "輸入第二個數字?-10\n",
            "第一個是負數\n",
            "第二個也是負數\n",
            "比較完成\n",
            "輸入第一個數字?-10\n",
            "輸入第二個數字?-9\n",
            "第一個是負數\n",
            "第二個是負數\n",
            "比較完成\n"
          ],
          "name": "stdout"
        }
      ]
    },
    {
      "cell_type": "code",
      "metadata": {
        "colab": {
          "base_uri": "https://localhost:8080/"
        },
        "id": "iZ9Et2jK3Fpv",
        "outputId": "18d80dd3-aacf-47ee-d73c-e985d15f8863"
      },
      "source": [
        "a = int(input(\"輸入第一個邊長?\"))\r\n",
        "b = int(input(\"輸入第二個邊長?\"))\r\n",
        "c = int(input(\"輸入第三個邊長?\"))\r\n",
        "\r\n",
        "if (a<b+c)and(b<a+c)and(c<a+b):\r\n",
        "  print(\"可構成三角形\")\r\n",
        "else:\r\n",
        "  print(\"無法構成三角形\")\r\n",
        "\r\n",
        "print(\"比較完成\")"
      ],
      "execution_count": 8,
      "outputs": [
        {
          "output_type": "stream",
          "text": [
            "輸入第一個邊長?12\n",
            "輸入第二個邊長?13\n",
            "輸入第三個邊長?14\n",
            "可構成三角形\n",
            "比較完成\n"
          ],
          "name": "stdout"
        }
      ]
    }
  ]
}