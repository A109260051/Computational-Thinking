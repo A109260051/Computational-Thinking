{
  "nbformat": 4,
  "nbformat_minor": 0,
  "metadata": {
    "colab": {
      "name": "陳瑾琦week11.ipynb",
      "provenance": [],
      "authorship_tag": "ABX9TyMBwOQapY3ueGjH1bU0mIt9",
      "include_colab_link": true
    },
    "kernelspec": {
      "name": "python3",
      "display_name": "Python 3"
    }
  },
  "cells": [
    {
      "cell_type": "markdown",
      "metadata": {
        "id": "view-in-github",
        "colab_type": "text"
      },
      "source": [
        "<a href=\"https://colab.research.google.com/github/A109260051/Computational-Thinking/blob/master/%E9%99%B3%E7%91%BE%E7%90%A6week11.ipynb\" target=\"_parent\"><img src=\"https://colab.research.google.com/assets/colab-badge.svg\" alt=\"Open In Colab\"/></a>"
      ]
    },
    {
      "cell_type": "markdown",
      "metadata": {
        "id": "i_h9dGlgao73"
      },
      "source": [
        "分組"
      ]
    },
    {
      "cell_type": "code",
      "metadata": {
        "colab": {
          "base_uri": "https://localhost:8080/"
        },
        "id": "pX4OYD1CZz9U",
        "outputId": "38fca2c7-61d3-4985-be2e-30834d9b5fa9"
      },
      "source": [
        "# 商數餘數\n",
        "\n",
        "seat = int(input(\"輸入一個座位號碼?\"))\n",
        "##Process\n",
        "group = (seat - 1) // 5 + 1\n",
        "##Output\n",
        "print(\"組別是\",group)"
      ],
      "execution_count": 4,
      "outputs": [
        {
          "output_type": "stream",
          "text": [
            "輸入一個座位號碼?19\n",
            "組別是 4\n"
          ],
          "name": "stdout"
        }
      ]
    },
    {
      "cell_type": "code",
      "metadata": {
        "colab": {
          "base_uri": "https://localhost:8080/"
        },
        "id": "mgGRbiKgbzTT",
        "outputId": "18d5b8f7-5510-47d3-bc75-cac666eff2fa"
      },
      "source": [
        "# 四捨五入 無條件進位\n",
        "## Input\n",
        "seat = int(input(\"輸入一個座位號碼?\"))\n",
        "\n",
        "import math\n",
        "group = math.ceil(seat/5)\n",
        "\n",
        "print(\"組別是\",group)"
      ],
      "execution_count": 7,
      "outputs": [
        {
          "output_type": "stream",
          "text": [
            "輸入一個座位號碼?19\n",
            "組別是 4\n"
          ],
          "name": "stdout"
        }
      ]
    },
    {
      "cell_type": "code",
      "metadata": {
        "colab": {
          "base_uri": "https://localhost:8080/"
        },
        "id": "QqV9N8Abe3vO",
        "outputId": "24636866-07eb-40e3-9cc0-b60610e46751"
      },
      "source": [
        "# 方法(三):看餘數,用條件句\n",
        "number = int(input(\"輸入一個座位號碼?\"))\n",
        "if number %5 == 0:\n",
        "  print(\"組別是\",number//5)\n",
        "else:\n",
        "  print(\"組別是\",number//5 + 1)"
      ],
      "execution_count": 9,
      "outputs": [
        {
          "output_type": "stream",
          "text": [
            "輸入一個座位號碼?19\n",
            "組別是 4\n"
          ],
          "name": "stdout"
        }
      ]
    },
    {
      "cell_type": "code",
      "metadata": {
        "colab": {
          "base_uri": "https://localhost:8080/"
        },
        "id": "6n5--Wyji8KR",
        "outputId": "56384f61-64d5-407d-fce7-3f78e308a986"
      },
      "source": [
        "#聊天機器人自我介紹\n",
        "print(\"哈囉,大家好,我叫zyxo64,是一個聊天機器人\")\n",
        "\n",
        "hobby = \"我很喜歡美食東西,也很喜歡養動物,今天很高興有機會來到世新大學,請大家請多多指教\"\n",
        "print(hobby)\n",
        "\n",
        "#打招呼取得對方名字\n",
        "name = input(\"嗨!你好,請問你的大名?\")\n",
        "print(\"我叫\",name)\n",
        "print(\"你好\",name,\"很高興認識你\")"
      ],
      "execution_count": 11,
      "outputs": [
        {
          "output_type": "stream",
          "text": [
            "哈囉,大家好,我叫zyxo64,是一個聊天機器人\n",
            "我很喜歡美食東西,也很喜歡養動物,今天很高興有機會來到世新大學,請大家請多多指教\n",
            "嗨!你好,請問你的大名?陳瑾琦\n",
            "我叫 陳瑾琦\n",
            "你好 陳瑾琦 很高興認識你\n"
          ],
          "name": "stdout"
        }
      ]
    },
    {
      "cell_type": "code",
      "metadata": {
        "colab": {
          "base_uri": "https://localhost:8080/"
        },
        "id": "39sxouhelO09",
        "outputId": "acaf1d71-cd0d-4bf5-8305-7e28059c8629"
      },
      "source": [
        "print(\"我喜歡巧克力,也喜歡嘗試各種新食物\")\n",
        "food = input(\"你呢,你最喜歡的食物是甚麼?\")\n",
        "print (\"我也喜歡,food\")\n",
        "question = \"你多久吃一次\" + food +\"?:\"\n",
        "howoften = input(question)\n",
        "print(\"真有趣,不知道這樣對健康好不好!\")"
      ],
      "execution_count": 14,
      "outputs": [
        {
          "output_type": "stream",
          "text": [
            "我喜歡巧克力,也喜歡嘗試各種新食物\n",
            "你呢,你最喜歡的食物是甚麼?起士\n",
            "我也喜歡,food\n",
            "你多久吃一次起士?:5\n",
            "真有趣,不知道這樣對健康好不好!\n"
          ],
          "name": "stdout"
        }
      ]
    },
    {
      "cell_type": "code",
      "metadata": {
        "colab": {
          "base_uri": "https://localhost:8080/"
        },
        "id": "2uBKuXRmm0vi",
        "outputId": "67aff507-fdbb-4b2c-f5d4-86ff50a20e32"
      },
      "source": [
        "animal = input(\"我最喜歡的動物是長頸鹿,你呢?\")\n",
        "print(\"我不喜歡\",animal)\n",
        "print(\"不知道\",animal,\"喜不喜歡吃\",food,\"?\")"
      ],
      "execution_count": 15,
      "outputs": [
        {
          "output_type": "stream",
          "text": [
            "我最喜歡的動物是長頸鹿,你呢?貓\n",
            "我不喜歡 貓\n",
            "不知道 貓 喜不喜歡吃 起士 ?\n"
          ],
          "name": "stdout"
        }
      ]
    }
  ]
}