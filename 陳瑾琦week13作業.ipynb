{
  "nbformat": 4,
  "nbformat_minor": 0,
  "metadata": {
    "colab": {
      "name": "陳瑾琦week13作業.ipynb",
      "provenance": [],
      "authorship_tag": "ABX9TyOJxNFr5Ma6DrK+C2Kw+YeM",
      "include_colab_link": true
    },
    "kernelspec": {
      "name": "python3",
      "display_name": "Python 3"
    }
  },
  "cells": [
    {
      "cell_type": "markdown",
      "metadata": {
        "id": "view-in-github",
        "colab_type": "text"
      },
      "source": [
        "<a href=\"https://colab.research.google.com/github/A109260051/Computational-Thinking/blob/master/%E9%99%B3%E7%91%BE%E7%90%A6week13%E4%BD%9C%E6%A5%AD.ipynb\" target=\"_parent\"><img src=\"https://colab.research.google.com/assets/colab-badge.svg\" alt=\"Open In Colab\"/></a>"
      ]
    },
    {
      "cell_type": "code",
      "metadata": {
        "colab": {
          "base_uri": "https://localhost:8080/"
        },
        "id": "eE2CCCsJ0V65",
        "outputId": "c4fdf577-f77c-495b-bff8-66a63290875a"
      },
      "source": [
        "sum = 0\r\n",
        "n = int(input('請輸入終止值？'))\r\n",
        "for i in range(1, n+1):\r\n",
        " sum = sum + i*i\r\n",
        "print('i為', i, '時，平方和結果為', sum)"
      ],
      "execution_count": 1,
      "outputs": [
        {
          "output_type": "stream",
          "text": [
            "請輸入終止值？4\n",
            "i為 4 時，平方和結果為 30\n"
          ],
          "name": "stdout"
        }
      ]
    }
  ]
}