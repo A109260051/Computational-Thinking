{
  "nbformat": 4,
  "nbformat_minor": 0,
  "metadata": {
    "colab": {
      "name": "陳瑾琦week10.ipynb",
      "provenance": [],
      "authorship_tag": "ABX9TyP2BHmFDTGqClG19+g1VxwB",
      "include_colab_link": true
    },
    "kernelspec": {
      "name": "python3",
      "display_name": "Python 3"
    }
  },
  "cells": [
    {
      "cell_type": "markdown",
      "metadata": {
        "id": "view-in-github",
        "colab_type": "text"
      },
      "source": [
        "<a href=\"https://colab.research.google.com/github/A109260051/Computational-Thinking/blob/master/%E9%99%B3%E7%91%BE%E7%90%A6week10.ipynb\" target=\"_parent\"><img src=\"https://colab.research.google.com/assets/colab-badge.svg\" alt=\"Open In Colab\"/></a>"
      ]
    },
    {
      "cell_type": "code",
      "metadata": {
        "colab": {
          "base_uri": "https://localhost:8080/"
        },
        "id": "Y3vgDZ1lRUiE",
        "outputId": "98b0f9df-a1d8-48e2-caf8-36dd5571d5d5"
      },
      "source": [
        "# 寫程式是怎麼一回事\n",
        "\n",
        "##Question: [艾蜜莉在巴黎]那部電影值不值得看? 老闆想了解一下那部電影的相關資訊\n",
        "\n",
        "# step1: 上網找 哪裡找 找甚麼 如何回覆\n",
        "## 從IMBD電影資料庫找出要記錄的艾蜜莉在巴黎電影相關資訊\n",
        "## 網址: https://www.imdb.com/title/tt8962124/?ref_=watch_fanfav_tt_24\n",
        "## 相關資訊: 電影名稱 放映日期......\n",
        "\n",
        "# step2: Input-Process-Output\n",
        "\n",
        "## 輸入資料\n",
        "## 處理\n",
        "## 輸出資料\n",
        "\n",
        "# step3: Coding\n",
        "\n",
        "Movie_title = \"Emily in Paris\"\n",
        "release_year = \"2020-\"\n",
        "movie_time_min = \"30\"\n",
        "movie_rating = \"7.1\"\n",
        "creator = \"Darren Star\"\n",
        "\n",
        "print(\"電影英文名稱\",Movie_title)\n",
        "print(\"上映時間\",release_year)\n",
        "print(\"電影時長\",movie_time_min)\n",
        "print(\"電影評價\",movie_rating)\n",
        "print(\"導演\",creator)"
      ],
      "execution_count": 2,
      "outputs": [
        {
          "output_type": "stream",
          "text": [
            "電影英文名稱 Emily in Paris\n",
            "上映時間 2020-\n",
            "電影時長 30\n",
            "電影評價 7.1\n",
            "導演 Darren Star\n"
          ],
          "name": "stdout"
        }
      ]
    }
  ]
}