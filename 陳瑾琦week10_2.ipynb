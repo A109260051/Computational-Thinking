{
  "nbformat": 4,
  "nbformat_minor": 0,
  "metadata": {
    "colab": {
      "name": "陳瑾琦week10-2.ipynb",
      "provenance": [],
      "authorship_tag": "ABX9TyOXyj5bTz82PxDjK/VQvcAE",
      "include_colab_link": true
    },
    "kernelspec": {
      "name": "python3",
      "display_name": "Python 3"
    }
  },
  "cells": [
    {
      "cell_type": "markdown",
      "metadata": {
        "id": "view-in-github",
        "colab_type": "text"
      },
      "source": [
        "<a href=\"https://colab.research.google.com/github/A109260051/Computational-Thinking/blob/master/%E9%99%B3%E7%91%BE%E7%90%A6week10_2.ipynb\" target=\"_parent\"><img src=\"https://colab.research.google.com/assets/colab-badge.svg\" alt=\"Open In Colab\"/></a>"
      ]
    },
    {
      "cell_type": "code",
      "metadata": {
        "colab": {
          "base_uri": "https://localhost:8080/"
        },
        "id": "dzL_lBAUg3cI",
        "outputId": "f1819697-8208-43be-8f5e-804d318d4c16"
      },
      "source": [
        "# Input Data\n",
        "time = 123\n",
        "\n",
        "# Process\n",
        "hour = time // 60 #商數\n",
        "minute = time % 60 #餘數\n",
        "\n",
        "#Output\n",
        "\n",
        "print(time,\"是\",hour,\"小時\",minute,\"分鐘\")\n",
        "\n",
        "## Process\n",
        "\n",
        "hour1 = int (time / 60) #除法與整數\n",
        "minute1 = ((time / 60) - hour1)*60\n",
        "import math\n",
        "minute1 = round(minute1)\n",
        "\n",
        "print(time,\"是\",hour,\"小時\",minute,\"分鐘\")"
      ],
      "execution_count": 7,
      "outputs": [
        {
          "output_type": "stream",
          "text": [
            "123 是 2 小時 3 分鐘\n",
            "123 是 2 小時 3 分鐘\n"
          ],
          "name": "stdout"
        }
      ]
    }
  ]
}