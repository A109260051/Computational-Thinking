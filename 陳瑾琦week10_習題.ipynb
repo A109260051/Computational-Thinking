{
  "nbformat": 4,
  "nbformat_minor": 0,
  "metadata": {
    "colab": {
      "name": "陳瑾琦week10-習題.ipynb",
      "provenance": [],
      "authorship_tag": "ABX9TyPviim9DGv9/ziHBP9F5Rt1",
      "include_colab_link": true
    },
    "kernelspec": {
      "name": "python3",
      "display_name": "Python 3"
    }
  },
  "cells": [
    {
      "cell_type": "markdown",
      "metadata": {
        "id": "view-in-github",
        "colab_type": "text"
      },
      "source": [
        "<a href=\"https://colab.research.google.com/github/A109260051/Computational-Thinking/blob/master/%E9%99%B3%E7%91%BE%E7%90%A6week10_%E7%BF%92%E9%A1%8C.ipynb\" target=\"_parent\"><img src=\"https://colab.research.google.com/assets/colab-badge.svg\" alt=\"Open In Colab\"/></a>"
      ]
    },
    {
      "cell_type": "code",
      "metadata": {
        "colab": {
          "base_uri": "https://localhost:8080/"
        },
        "id": "wIOZsbALksbT",
        "outputId": "85c11c36-9e9b-464c-f21c-fca666048844"
      },
      "source": [
        "# Input number\n",
        "number = int(input(\"請輸入人數\"))\n",
        "\n",
        "# Process\n",
        "group= (number+4) // 5 #商數\n",
        "\n",
        "# Output\n",
        "\n",
        "print(number,\"是\",group,\"組別\")\n",
        "\n",
        "## Process\n",
        "\n",
        "group1 = int ((number+4) // 5) #除法與整數\n"
      ],
      "execution_count": 19,
      "outputs": [
        {
          "output_type": "stream",
          "text": [
            "請輸入人數18\n",
            "18 是 4 組別\n"
          ],
          "name": "stdout"
        }
      ]
    }
  ]
}