{
  "nbformat": 4,
  "nbformat_minor": 0,
  "metadata": {
    "colab": {
      "name": "陳瑾琦week9-1.ipynb",
      "provenance": [],
      "authorship_tag": "ABX9TyOSFXSfAhqTa5e/VvnLZulP",
      "include_colab_link": true
    },
    "kernelspec": {
      "name": "python3",
      "display_name": "Python 3"
    }
  },
  "cells": [
    {
      "cell_type": "markdown",
      "metadata": {
        "id": "view-in-github",
        "colab_type": "text"
      },
      "source": [
        "<a href=\"https://colab.research.google.com/github/A109260051/Computational-Thinking/blob/master/%E9%99%B3%E7%91%BE%E7%90%A6week9_1.ipynb\" target=\"_parent\"><img src=\"https://colab.research.google.com/assets/colab-badge.svg\" alt=\"Open In Colab\"/></a>"
      ]
    },
    {
      "cell_type": "code",
      "metadata": {
        "id": "Zvg5OnUGZBqv",
        "outputId": "424191fc-6d2b-438d-f108-749f1b2f91b7",
        "colab": {
          "base_uri": "https://localhost:8080/"
        }
      },
      "source": [
        "# 變數賦值\n",
        "X = 2\n",
        "Y = 5\n",
        "## 等號的左邊有甚麼規定\n",
        "## 等號的右邊有甚麼規定\n",
        "## 等號可以做甚麼\n",
        "\n",
        "#數字資料做運算\n",
        "## 加減乘除 商數餘數次方\n",
        "## 運算順序\n",
        "print(X + Y)\n",
        "print(X - Y)\n",
        "print(X * Y)\n",
        "print(X / Y)\n",
        "print(X // Y)\n",
        "print(X % Y)\n",
        "print(X ** Y)"
      ],
      "execution_count": 1,
      "outputs": [
        {
          "output_type": "stream",
          "text": [
            "7\n",
            "-3\n",
            "10\n",
            "0.4\n",
            "0\n",
            "2\n",
            "32\n"
          ],
          "name": "stdout"
        }
      ]
    },
    {
      "cell_type": "code",
      "metadata": {
        "id": "iaTKClDKZh0z"
      },
      "source": [
        "# 標準輸入輸出\n",
        "## input()函數\n",
        "## print()函數"
      ],
      "execution_count": null,
      "outputs": []
    },
    {
      "cell_type": "markdown",
      "metadata": {
        "id": "cpv4i2iQZxxB"
      },
      "source": [
        "# 標準輸入輸出\n",
        "## input()函數\n",
        "## print()函數"
      ]
    },
    {
      "cell_type": "code",
      "metadata": {
        "id": "wKVjMD2DZ2qe",
        "outputId": "79f5761f-6029-4d71-8de1-e0819dd41ce7",
        "colab": {
          "base_uri": "https://localhost:8080/",
          "height": 52
        }
      },
      "source": [
        "input()"
      ],
      "execution_count": 2,
      "outputs": [
        {
          "output_type": "stream",
          "text": [
            "3\n"
          ],
          "name": "stdout"
        },
        {
          "output_type": "execute_result",
          "data": {
            "application/vnd.google.colaboratory.intrinsic+json": {
              "type": "string"
            },
            "text/plain": [
              "'3'"
            ]
          },
          "metadata": {
            "tags": []
          },
          "execution_count": 2
        }
      ]
    },
    {
      "cell_type": "code",
      "metadata": {
        "id": "3V_F--wEaFq5",
        "outputId": "b5f4bda8-2ca5-4a35-d94f-d0e6dc62e6f9",
        "colab": {
          "base_uri": "https://localhost:8080/",
          "height": 52
        }
      },
      "source": [
        "input(\"請輸入數字?\")"
      ],
      "execution_count": 3,
      "outputs": [
        {
          "output_type": "stream",
          "text": [
            "請輸入數字?3\n"
          ],
          "name": "stdout"
        },
        {
          "output_type": "execute_result",
          "data": {
            "application/vnd.google.colaboratory.intrinsic+json": {
              "type": "string"
            },
            "text/plain": [
              "'3'"
            ]
          },
          "metadata": {
            "tags": []
          },
          "execution_count": 3
        }
      ]
    },
    {
      "cell_type": "code",
      "metadata": {
        "id": "bxh3sf3yanBa",
        "outputId": "6f3b3660-bb51-49a7-e96e-57678089e064",
        "colab": {
          "base_uri": "https://localhost:8080/"
        }
      },
      "source": [
        "X = input(\"請輸入數字?\")"
      ],
      "execution_count": 4,
      "outputs": [
        {
          "output_type": "stream",
          "text": [
            "請輸入數字?3\n"
          ],
          "name": "stdout"
        }
      ]
    },
    {
      "cell_type": "code",
      "metadata": {
        "id": "8Rdjgd8Ga2cy",
        "outputId": "515c92d0-4859-4eb9-e343-bb6367f4223a",
        "colab": {
          "base_uri": "https://localhost:8080/"
        }
      },
      "source": [
        "print(X)"
      ],
      "execution_count": 7,
      "outputs": [
        {
          "output_type": "stream",
          "text": [
            "3\n"
          ],
          "name": "stdout"
        }
      ]
    },
    {
      "cell_type": "code",
      "metadata": {
        "id": "pZMNhHCzbVud",
        "outputId": "d9df2f17-0d77-4b39-ca13-18821476dd74",
        "colab": {
          "base_uri": "https://localhost:8080/"
        }
      },
      "source": [
        "print(X, 2, \"Python\")"
      ],
      "execution_count": 8,
      "outputs": [
        {
          "output_type": "stream",
          "text": [
            "3 2 Python\n"
          ],
          "name": "stdout"
        }
      ]
    },
    {
      "cell_type": "code",
      "metadata": {
        "id": "rgptFvK4dzMt",
        "outputId": "0df887aa-8032-441a-fc97-63237d6800ee",
        "colab": {
          "base_uri": "https://localhost:8080/"
        }
      },
      "source": [
        "X = input(\"請輸入上衣的數量?\")"
      ],
      "execution_count": 11,
      "outputs": [
        {
          "output_type": "stream",
          "text": [
            "請輸入上衣的數量?3\n"
          ],
          "name": "stdout"
        }
      ]
    },
    {
      "cell_type": "code",
      "metadata": {
        "id": "YsYMKsjueV2d"
      },
      "source": [
        "X = int(X)"
      ],
      "execution_count": 15,
      "outputs": []
    },
    {
      "cell_type": "code",
      "metadata": {
        "id": "JtAdZV57d-C5"
      },
      "source": [
        "Total = 300 * X"
      ],
      "execution_count": 13,
      "outputs": []
    },
    {
      "cell_type": "code",
      "metadata": {
        "id": "JEl3dli9eDZ2",
        "outputId": "c307aa8d-b44d-4597-c201-54c79df16f37",
        "colab": {
          "base_uri": "https://localhost:8080/"
        }
      },
      "source": [
        "print(Total)"
      ],
      "execution_count": 14,
      "outputs": [
        {
          "output_type": "stream",
          "text": [
            "900\n"
          ],
          "name": "stdout"
        }
      ]
    },
    {
      "cell_type": "code",
      "metadata": {
        "id": "BnxSblEIf3bK",
        "outputId": "84eb957d-8840-4284-ae11-92abd293d281",
        "colab": {
          "base_uri": "https://localhost:8080/"
        }
      },
      "source": [
        "X = int(input(\"請輸入上衣的數量?\"))\n",
        "Y = int(input(\"請輸入褲子的數量?\"))\n",
        "Z = int(input(\"請輸入背心的數量?\"))\n",
        "\n",
        "Total = 300*X + 350*Y + 400*Z\n",
        "\n",
        "print(\"訂購服裝的總金額為\",Total)"
      ],
      "execution_count": 17,
      "outputs": [
        {
          "output_type": "stream",
          "text": [
            "請輸入上衣的數量?4\n",
            "請輸入褲子的數量?8\n",
            "請輸入背心的數量?1\n",
            "訂購服裝的總金額為 4400\n"
          ],
          "name": "stdout"
        }
      ]
    },
    {
      "cell_type": "code",
      "metadata": {
        "id": "_FPVwp-5gv-p",
        "outputId": "d434b69f-fc52-4d3f-b4de-9ab6e3675512",
        "colab": {
          "base_uri": "https://localhost:8080/"
        }
      },
      "source": [
        "Cans = int(input(\"請輸入購買的飲料罐數?\"))\n",
        "Total = (Cans//12)*200 + (Cans%12)*20\n",
        "print (\"需花費\",Total)"
      ],
      "execution_count": 19,
      "outputs": [
        {
          "output_type": "stream",
          "text": [
            "請輸入購買的飲料罐數?40\n",
            "需花費 680\n"
          ],
          "name": "stdout"
        }
      ]
    },
    {
      "cell_type": "code",
      "metadata": {
        "id": "iYznObzRiA8I",
        "outputId": "8ec502aa-5e9e-4a8b-c075-74fb4e9c3cd0",
        "colab": {
          "base_uri": "https://localhost:8080/"
        }
      },
      "source": [
        "first = int(input(\"請輸入第一次期中考成績?\"))\n",
        "second = int(input(\"請輸入第二次期中考成績?\"))\n",
        "final = int(input(\"請輸入期末考成績?\"))\n",
        "total = first + second + final\n",
        "average = total / 3\n",
        "print(\"總分為\",total,\"平均為\",average)"
      ],
      "execution_count": 21,
      "outputs": [
        {
          "output_type": "stream",
          "text": [
            "請輸入第一次期中考成績?80\n",
            "請輸入第二次期中考成績?75\n",
            "請輸入期末考成績?90\n",
            "總分為 245 平均為 81.66666666666667\n"
          ],
          "name": "stdout"
        }
      ]
    }
  ]
}